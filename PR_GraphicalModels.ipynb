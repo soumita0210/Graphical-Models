{
 "cells": [
  {
   "cell_type": "markdown",
   "metadata": {},
   "source": [
    "**Problem 1: Draw the moral graph, triangulated graph and the junction tree. Explain why the \"running intersection property\" is satisfied in your junction tree.**"
   ]
  },
  {
   "cell_type": "code",
   "execution_count": 26,
   "metadata": {
    "colab": {},
    "colab_type": "code",
    "id": "MmMouH6z04Kf"
   },
   "outputs": [],
   "source": [
    "from pgmpy.models import BayesianModel\n",
    "G = BayesianModel()"
   ]
  },
  {
   "cell_type": "code",
   "execution_count": 27,
   "metadata": {
    "colab": {},
    "colab_type": "code",
    "id": "DZIKT_D91ahT"
   },
   "outputs": [],
   "source": [
    "G.add_edges_from([('asia','tub'),('tub','either'),('smoke','lung'),('smoke','bronc'),('lung','either'),('either','xray'),('either','dysp'),('bronc','dysp')])"
   ]
  },
  {
   "cell_type": "code",
   "execution_count": 28,
   "metadata": {
    "colab": {},
    "colab_type": "code",
    "id": "H5hseVZC5k2T"
   },
   "outputs": [],
   "source": [
    "import networkx as nx\n",
    "import matplotlib.pyplot as plt\n"
   ]
  },
  {
   "cell_type": "code",
   "execution_count": 29,
   "metadata": {
    "colab": {
     "base_uri": "https://localhost:8080/",
     "height": 319
    },
    "colab_type": "code",
    "executionInfo": {
     "elapsed": 528,
     "status": "ok",
     "timestamp": 1584573543902,
     "user": {
      "displayName": "Soumita Das",
      "photoUrl": "",
      "userId": "08793970926694701124"
     },
     "user_tz": 240
    },
    "id": "hu27kOHA4w03",
    "outputId": "53ac4c0d-e32a-4ddb-d58c-20e0f5fdeeab"
   },
   "outputs": [
    {
     "data": {
      "image/png": "[encoded data removed]",
      "text/plain": [
       "<Figure size 432x288 with 1 Axes>"
      ]
     },
     "metadata": {},
     "output_type": "display_data"
    }
   ],
   "source": [
    "nx.draw(G, with_labels=True,node_size=2000,node_color='pink',linewidths=1)\n",
    "plt.show()"
   ]
  },
  {
   "cell_type": "code",
   "execution_count": 30,
   "metadata": {
    "colab": {},
    "colab_type": "code",
    "id": "YErVoQWw9Sp0"
   },
   "outputs": [],
   "source": [
    "from pgmpy.factors.discrete.CPD import TabularCPD"
   ]
  },
  {
   "cell_type": "code",
   "execution_count": 31,
   "metadata": {
    "colab": {},
    "colab_type": "code",
    "id": "pfO2blBE8ZIz"
   },
   "outputs": [],
   "source": [
    "cpd_asia = TabularCPD('asia',2,values=[[0.01],[0.99]])\n",
    "\n",
    "cpd_tub = TabularCPD('tub',2,values=[[0.05,0.01],[0.95,0.99]],evidence=['asia'],evidence_card=[2])\n",
    "\n",
    "cpd_smoke = TabularCPD('smoke',2,values=[[0.5],[0.5]])\n",
    "\n",
    "cpd_lung = TabularCPD('lung',2,values=[[0.1,0.01],[0.9,0.99]],evidence=['smoke'],evidence_card=[2])\n",
    "\n",
    "cpd_bronc = TabularCPD('bronc',2,values=[[0.6,0.3],[0.4,0.7]],evidence=['smoke'],evidence_card=[2])\n",
    "\n",
    "cpd_either = TabularCPD('either',2,values=[[1,1,1,0],[0,0,0,1]],evidence=['lung','tub'],evidence_card=[2,2])\n",
    "\n",
    "cpd_xray = TabularCPD('xray',2,values=[[0.98,0.05],[0.02,0.95]],evidence=['either'],evidence_card=[2])\n",
    "\n",
    "cpd_dysp = TabularCPD('dysp',2,values=[[0.9,0.7,0.8,0.1],[0.1,0.3,0.2,0.9]],evidence=['bronc','either'],evidence_card=[2,2])"
   ]
  },
  {
   "cell_type": "code",
   "execution_count": 32,
   "metadata": {
    "colab": {},
    "colab_type": "code",
    "id": "xRDrFFa6_N0Q"
   },
   "outputs": [],
   "source": [
    "G.add_cpds(cpd_asia, cpd_smoke, cpd_tub, cpd_lung, cpd_bronc, cpd_either, cpd_xray, cpd_dysp)"
   ]
  },
  {
   "cell_type": "code",
   "execution_count": 33,
   "metadata": {
    "colab": {
     "base_uri": "https://localhost:8080/",
     "height": 1000
    },
    "colab_type": "code",
    "executionInfo": {
     "elapsed": 343,
     "status": "ok",
     "timestamp": 1584574489041,
     "user": {
      "displayName": "Soumita Das",
      "photoUrl": "",
      "userId": "08793970926694701124"
     },
     "user_tz": 240
    },
    "id": "XDXOZTMf_4ls",
    "outputId": "f3a1b6ef-2455-47fc-cee7-9a42c986de40"
   },
   "outputs": [
    {
     "name": "stdout",
     "output_type": "stream",
     "text": [
      "\n",
      "CPD of asia:\n",
      "+---------+------+\n",
      "| asia(0) | 0.01 |\n",
      "+---------+------+\n",
      "| asia(1) | 0.99 |\n",
      "+---------+------+\n",
      "\n",
      "CPD of smoke:\n",
      "+----------+-----+\n",
      "| smoke(0) | 0.5 |\n",
      "+----------+-----+\n",
      "| smoke(1) | 0.5 |\n",
      "+----------+-----+\n",
      "\n",
      "CPD of tub:\n",
      "+--------+---------+---------+\n",
      "| asia   | asia(0) | asia(1) |\n",
      "+--------+---------+---------+\n",
      "| tub(0) | 0.05    | 0.01    |\n",
      "+--------+---------+---------+\n",
      "| tub(1) | 0.95    | 0.99    |\n",
      "+--------+---------+---------+\n",
      "\n",
      "CPD of lung:\n",
      "+---------+----------+----------+\n",
      "| smoke   | smoke(0) | smoke(1) |\n",
      "+---------+----------+----------+\n",
      "| lung(0) | 0.1      | 0.01     |\n",
      "+---------+----------+----------+\n",
      "| lung(1) | 0.9      | 0.99     |\n",
      "+---------+----------+----------+\n",
      "\n",
      "CPD of bronc:\n",
      "+----------+----------+----------+\n",
      "| smoke    | smoke(0) | smoke(1) |\n",
      "+----------+----------+----------+\n",
      "| bronc(0) | 0.6      | 0.3      |\n",
      "+----------+----------+----------+\n",
      "| bronc(1) | 0.4      | 0.7      |\n",
      "+----------+----------+----------+\n",
      "\n",
      "CPD of either:\n",
      "+-----------+---------+---------+---------+---------+\n",
      "| lung      | lung(0) | lung(0) | lung(1) | lung(1) |\n",
      "+-----------+---------+---------+---------+---------+\n",
      "| tub       | tub(0)  | tub(1)  | tub(0)  | tub(1)  |\n",
      "+-----------+---------+---------+---------+---------+\n",
      "| either(0) | 1.0     | 1.0     | 1.0     | 0.0     |\n",
      "+-----------+---------+---------+---------+---------+\n",
      "| either(1) | 0.0     | 0.0     | 0.0     | 1.0     |\n",
      "+-----------+---------+---------+---------+---------+\n",
      "\n",
      "CPD of xray:\n",
      "+---------+-----------+-----------+\n",
      "| either  | either(0) | either(1) |\n",
      "+---------+-----------+-----------+\n",
      "| xray(0) | 0.98      | 0.05      |\n",
      "+---------+-----------+-----------+\n",
      "| xray(1) | 0.02      | 0.95      |\n",
      "+---------+-----------+-----------+\n",
      "\n",
      "CPD of dysp:\n",
      "+---------+-----------+-----------+-----------+-----------+\n",
      "| bronc   | bronc(0)  | bronc(0)  | bronc(1)  | bronc(1)  |\n",
      "+---------+-----------+-----------+-----------+-----------+\n",
      "| either  | either(0) | either(1) | either(0) | either(1) |\n",
      "+---------+-----------+-----------+-----------+-----------+\n",
      "| dysp(0) | 0.9       | 0.7       | 0.8       | 0.1       |\n",
      "+---------+-----------+-----------+-----------+-----------+\n",
      "| dysp(1) | 0.1       | 0.3       | 0.2       | 0.9       |\n",
      "+---------+-----------+-----------+-----------+-----------+\n"
     ]
    }
   ],
   "source": [
    "for cpd in G.get_cpds():\n",
    "    print(\"\\nCPD of {variable}:\".format(variable=cpd.variable))\n",
    "    print(cpd)"
   ]
  },
  {
   "cell_type": "code",
   "execution_count": 34,
   "metadata": {
    "colab": {},
    "colab_type": "code",
    "id": "AIBaNRJFBlAh"
   },
   "outputs": [],
   "source": [
    "moral = G.to_markov_model()\n",
    "triangulate = moral.triangulate()\n",
    "junction_tree = triangulate.to_junction_tree()"
   ]
  },
  {
   "cell_type": "markdown",
   "metadata": {},
   "source": [
    "**Moral Graph**"
   ]
  },
  {
   "cell_type": "code",
   "execution_count": 39,
   "metadata": {
    "colab": {
     "base_uri": "https://localhost:8080/",
     "height": 463
    },
    "colab_type": "code",
    "executionInfo": {
     "elapsed": 558,
     "status": "ok",
     "timestamp": 1584575970734,
     "user": {
      "displayName": "Soumita Das",
      "photoUrl": "",
      "userId": "08793970926694701124"
     },
     "user_tz": 240
    },
    "id": "TwldFJ3gB7xm",
    "outputId": "85576f63-7ecc-42cd-befd-838cd270d3b7"
   },
   "outputs": [
    {
     "data": {
      "image/png": "[encoded data removed]",
      "text/plain": [
       "<Figure size 504x288 with 1 Axes>"
      ]
     },
     "metadata": {},
     "output_type": "display_data"
    }
   ],
   "source": [
    "plt.figure(figsize=(7,4))\n",
    "nx.draw(moral,pos=nx.nx_pydot.graphviz_layout(moral), with_labels=True,node_size=2000,node_color='pink',linewidths=1)\n",
    "plt.show()"
   ]
  },
  {
   "cell_type": "markdown",
   "metadata": {},
   "source": [
    "**Triangulate Graph**"
   ]
  },
  {
   "cell_type": "code",
   "execution_count": 41,
   "metadata": {
    "colab": {
     "base_uri": "https://localhost:8080/",
     "height": 463
    },
    "colab_type": "code",
    "executionInfo": {
     "elapsed": 850,
     "status": "ok",
     "timestamp": 1584575974694,
     "user": {
      "displayName": "Soumita Das",
      "photoUrl": "",
      "userId": "08793970926694701124"
     },
     "user_tz": 240
    },
    "id": "19r7IDdDEkKc",
    "outputId": "5e2efa97-ba05-4372-97b2-0b8ebe63c628"
   },
   "outputs": [
    {
     "data": {
      "image/png": "[encoded data removed]",
      "text/plain": [
       "<Figure size 360x360 with 1 Axes>"
      ]
     },
     "metadata": {},
     "output_type": "display_data"
    }
   ],
   "source": [
    "plt.figure(figsize=(5,5))\n",
    "nx.draw(triangulate,pos=nx.nx_pydot.graphviz_layout(triangulate,prog='circo'), with_labels=True,node_size=2000,node_color='pink',linewidths=1)\n",
    "plt.show()"
   ]
  },
  {
   "cell_type": "markdown",
   "metadata": {},
   "source": [
    "**Junction Tree**"
   ]
  },
  {
   "cell_type": "code",
   "execution_count": 42,
   "metadata": {
    "colab": {
     "base_uri": "https://localhost:8080/",
     "height": 463
    },
    "colab_type": "code",
    "executionInfo": {
     "elapsed": 862,
     "status": "ok",
     "timestamp": 1584575978311,
     "user": {
      "displayName": "Soumita Das",
      "photoUrl": "",
      "userId": "08793970926694701124"
     },
     "user_tz": 240
    },
    "id": "vFb6LYR3FFse",
    "outputId": "e372ccc3-6bde-48a1-c47c-74a01ff15a55"
   },
   "outputs": [
    {
     "data": {
      "image/png": "[encoded data removed]",
      "text/plain": [
       "<Figure size 288x288 with 1 Axes>"
      ]
     },
     "metadata": {},
     "output_type": "display_data"
    }
   ],
   "source": [
    "plt.figure(figsize=(4,4))\n",
    "nx.draw(junction_tree, with_labels=True,node_size=2000,node_color='pink',linewidths=1)\n",
    "plt.show()"
   ]
  },
  {
   "cell_type": "markdown",
   "metadata": {},
   "source": [
    "**Printing Junction Tree Nodes**"
   ]
  },
  {
   "cell_type": "code",
   "execution_count": 43,
   "metadata": {},
   "outputs": [
    {
     "data": {
      "text/plain": [
       "NodeView((('tub', 'dysp', 'xray', 'asia', 'smoke'), ('tub', 'dysp', 'xray', 'lung', 'bronc', 'smoke'), ('tub', 'dysp', 'xray', 'lung', 'bronc', 'either')))"
      ]
     },
     "execution_count": 43,
     "metadata": {},
     "output_type": "execute_result"
    }
   ],
   "source": [
    "junction_tree.nodes"
   ]
  },
  {
   "cell_type": "markdown",
   "metadata": {},
   "source": [
    "**Justifying Running Intersection Property**"
   ]
  },
  {
   "cell_type": "markdown",
   "metadata": {},
   "source": [
    "If a variable is contained in 2 cliques then it must be contained in all other cliques on the path that connects them. This property makes sure of the consistency of the graph.\n",
    "\n",
    "In the junction tree above we can see that for instance 'tub','xray' and 'disp' is present in the first and third clique thus those 3 variables are also present in the second clique. Similarly this property is maintained for all other variables."
   ]
  },
  {
   "cell_type": "markdown",
   "metadata": {},
   "source": [
    "**Inference from the model using message passing algorithm**\n",
    "\n",
    "Joint probability of \"tub=yes, lung=yes, bronc=yes\", given evidence that \"asia=yes, xray=yes\""
   ]
  },
  {
   "cell_type": "code",
   "execution_count": 44,
   "metadata": {},
   "outputs": [
    {
     "name": "stderr",
     "output_type": "stream",
     "text": [
      "Finding Elimination Order: : 100%|██████████| 3/3 [00:00<00:00, 648.24it/s]\n",
      "Eliminating: smoke: 100%|██████████| 3/3 [00:00<00:00, 149.86it/s]\n"
     ]
    }
   ],
   "source": [
    "from pgmpy.inference import VariableElimination\n",
    "\n",
    "infer=VariableElimination(G)\n",
    "\n",
    "joint_probability = infer.query(variables=['tub','lung','bronc'],evidence={'asia':0,'xray':0},joint=True)"
   ]
  },
  {
   "cell_type": "code",
   "execution_count": 45,
   "metadata": {},
   "outputs": [
    {
     "name": "stdout",
     "output_type": "stream",
     "text": [
      "+--------+---------+----------+-----------------------+\n",
      "| tub    | lung    | bronc    |   phi(tub,lung,bronc) |\n",
      "+========+=========+==========+=======================+\n",
      "| tub(0) | lung(0) | bronc(0) |                0.0106 |\n",
      "+--------+---------+----------+-----------------------+\n",
      "| tub(0) | lung(0) | bronc(1) |                0.0079 |\n",
      "+--------+---------+----------+-----------------------+\n",
      "| tub(0) | lung(1) | bronc(0) |                0.1413 |\n",
      "+--------+---------+----------+-----------------------+\n",
      "| tub(0) | lung(1) | bronc(1) |                0.1778 |\n",
      "+--------+---------+----------+-----------------------+\n",
      "| tub(1) | lung(0) | bronc(0) |                0.2021 |\n",
      "+--------+---------+----------+-----------------------+\n",
      "| tub(1) | lung(0) | bronc(1) |                0.1508 |\n",
      "+--------+---------+----------+-----------------------+\n",
      "| tub(1) | lung(1) | bronc(0) |                0.1370 |\n",
      "+--------+---------+----------+-----------------------+\n",
      "| tub(1) | lung(1) | bronc(1) |                0.1724 |\n",
      "+--------+---------+----------+-----------------------+\n"
     ]
    }
   ],
   "source": [
    "print(joint_probability)"
   ]
  },
  {
   "cell_type": "markdown",
   "metadata": {},
   "source": [
    "Thus from the above table we can infer:\n",
    "\n",
    "**P(tub='yes',lung='yes',bronc='yes'|asia='yes',xray='yes')=0.0106**"
   ]
  },
  {
   "cell_type": "markdown",
   "metadata": {},
   "source": [
    "**Problem 2:  Describe how the different terms on the right hand side of \"p(V ) = p(a)p(t | a)p(s)p(l | s)p(b | s)p(e | t, l)p(d | e, b)p(x | e)\" are distributed among the different juction tree clusters. Write out the messages using these terms and verify that the message passing algorithm indeed gives the cluster marginals.**"
   ]
  },
  {
   "cell_type": "markdown",
   "metadata": {},
   "source": [
    "In message passing algorithm there are always 3 actors:\n",
    "1. The Source Cluster\n",
    "2. The sepset\n",
    "3. The Destination Cluster\n",
    "\n",
    "Messages exchanged changes state of potentials in the sepset and destination cluster.\n",
    "Variables in the source that are not in the sepset are marginalized out and the potential of the sepset is calculated as follows:\n",
    "\n",
    "$\\phi(S)=\\sum_{V / S} \\phi (V)$ \n",
    "\n",
    "The second assignment to the destination cluster potential is as follows:\n",
    "\n",
    "$\\phi(W)=\\phi (W) \\frac{\\phi (S)}{\\phi (S) ^{old}}$\n",
    "\n",
    "where $\\phi(S) , \\phi(V) , \\phi(W)$ denotes potential at sepset, source and destination clique respectively.\n",
    "\n",
    "For our example junction tree the derivation is shown below:\n"
   ]
  },
  {
   "cell_type": "markdown",
   "metadata": {},
   "source": [
    "<div>\n",
    "<img src=\"attachment:PB.png\" width=\"500\"/>\n",
    "</div>"
   ]
  },
  {
   "cell_type": "markdown",
   "metadata": {},
   "source": [
    "<img src=\"pb1.jpeg\" alt=\"drawing\" width=\"400\"/>"
   ]
  },
  {
   "cell_type": "markdown",
   "metadata": {},
   "source": [
    "The order of variable elimination has been shown in the derivation and junction tree above.\n",
    "\n",
    "The cliques in the junction tree are :\n",
    "\n",
    "$\\Psi(T,X,D,E,B,L) = P(E|T,L) P(D|E,B) P(X|E) $\n",
    "\n",
    "$\\Psi(T,X,D,S,B,L) = \\sum_E \\Psi(T,X,D,E,B,L) P(L|S) P(B|S) $\n",
    "\n",
    "$\\Psi(T,X,D,S,A) = \\sum_{B,L}\\Psi(T,X,D,S,B,L) P(A) P(T|A) P(S)$\n",
    "\n",
    "\n",
    "\n",
    "As we see from the derivation, a message is passed from Clique 1 to Clique 2 marginalizing over 'either (E)' via the sepset {T,L,B,D,X}. \n",
    "\n",
    "Similarly a second message is passed from Clique 2 to Clique 3 marginalizing over 'bronc (B) and lung (L)' via the sepset {T,D,X,S}. \n",
    "\n",
    "Finally in Clique 3 the rest of the variables 'tub (T), xray (X), dysp (D),  smoke (S) and asia (A)' are marginalized.\n",
    "\n",
    "Lastly the final answer is distributed via reverse propagation so that each cluster can know its marginal probability.\n",
    "\n",
    "Messages between 2 cliques can be in forward and reverse direction as shown in figure by blue and pink colours.\n",
    "\n",
    "At the end of the algorithm all the clusters have their marginal probabilities.\n"
   ]
  },
  {
   "cell_type": "code",
   "execution_count": 46,
   "metadata": {},
   "outputs": [],
   "source": [
    "from pgmpy.inference import BeliefPropagation"
   ]
  },
  {
   "cell_type": "code",
   "execution_count": 47,
   "metadata": {},
   "outputs": [],
   "source": [
    "propagate=BeliefPropagation(G)"
   ]
  },
  {
   "cell_type": "code",
   "execution_count": 48,
   "metadata": {},
   "outputs": [],
   "source": [
    "propagate.calibrate()"
   ]
  },
  {
   "cell_type": "code",
   "execution_count": 49,
   "metadata": {},
   "outputs": [
    {
     "data": {
      "text/plain": [
       "NodeView((('tub', 'dysp', 'xray', 'asia', 'smoke'), ('tub', 'dysp', 'xray', 'lung', 'bronc', 'smoke'), ('tub', 'dysp', 'xray', 'lung', 'bronc', 'either')))"
      ]
     },
     "execution_count": 49,
     "metadata": {},
     "output_type": "execute_result"
    }
   ],
   "source": [
    "propagate.get_cliques()"
   ]
  },
  {
   "cell_type": "code",
   "execution_count": 50,
   "metadata": {},
   "outputs": [
    {
     "data": {
      "text/plain": [
       "{frozenset({('tub', 'dysp', 'xray', 'asia', 'smoke'),\n",
       "            ('tub',\n",
       "             'dysp',\n",
       "             'xray',\n",
       "             'lung',\n",
       "             'bronc',\n",
       "             'smoke')}): <DiscreteFactor representing phi(tub:2, dysp:2, xray:2, smoke:2) at 0x1a26ac1b00>,\n",
       " frozenset({('tub', 'dysp', 'xray', 'lung', 'bronc', 'either'),\n",
       "            ('tub',\n",
       "             'dysp',\n",
       "             'xray',\n",
       "             'lung',\n",
       "             'bronc',\n",
       "             'smoke')}): <DiscreteFactor representing phi(tub:2, dysp:2, xray:2, lung:2, bronc:2) at 0x1a26aa9ac8>}"
      ]
     },
     "execution_count": 50,
     "metadata": {},
     "output_type": "execute_result"
    }
   ],
   "source": [
    "propagate.get_sepset_beliefs()"
   ]
  },
  {
   "cell_type": "markdown",
   "metadata": {},
   "source": [
    "**The derivation shown above is verified by calling the belief propagation method in pgmpy showing all the sepsets between each pair of cliques**"
   ]
  },
  {
   "cell_type": "markdown",
   "metadata": {},
   "source": [
    "**Problem 3: Joint Probability using MCMC Sampling**"
   ]
  },
  {
   "cell_type": "code",
   "execution_count": 2,
   "metadata": {},
   "outputs": [],
   "source": [
    "import pymc3 as pm\n",
    "import theano.tensor as T\n",
    "from theano.compile.ops import as_op\n",
    "import theano"
   ]
  },
  {
   "cell_type": "code",
   "execution_count": 3,
   "metadata": {},
   "outputs": [],
   "source": [
    "import numpy as np\n",
    "import pandas as pd\n",
    "import seaborn as sns"
   ]
  },
  {
   "cell_type": "code",
   "execution_count": 4,
   "metadata": {},
   "outputs": [],
   "source": [
    "asia_prob = np.array([0.01,0.99]) \n",
    "smoke_prob = np.array([0.5,0.5])\n",
    "\n",
    "tub_prob=np.array([[0.05,0.95],[0.01,0.99]])\n",
    "\n",
    "lung_prob=np.array([[0.1,0.9],[0.01,0.99]])\n",
    "\n",
    "bronc_prob=np.array([[0.6,0.4],[0.3,0.7]])\n",
    "\n",
    "xray_prob=np.array([[0.98,0.02],[0.05,0.95]])\n",
    "\n",
    "either_prob=np.array([[[1,0],[1,0]],[[1,0],[0,1]]])\n",
    "\n",
    "dysp_prob=np.array([[[0.9,0.1],[0.7,0.3]],[[0.8,0.2],[0.1,0.9]]])\n"
   ]
  },
  {
   "cell_type": "code",
   "execution_count": 5,
   "metadata": {},
   "outputs": [],
   "source": [
    "with pm.Model() as model:\n",
    "    \n",
    "  asia = pm.Categorical('asia',p=asia_prob)\n",
    "  smoke = pm.Categorical('smoke',p=smoke_prob)\n",
    "\n",
    "  tp=theano.shared(tub_prob)\n",
    "  tp_0=tp[asia]\n",
    "  tub=pm.Categorical('tub',p=tp_0)\n",
    "\n",
    "  lp=theano.shared(lung_prob)\n",
    "  lp_0=lp[smoke]\n",
    "  lung=pm.Categorical('lung',p=lp_0)\n",
    "\n",
    "  bp=theano.shared(bronc_prob)\n",
    "  bp_0=bp[smoke]\n",
    "  bronc=pm.Categorical('bronc',p=bp_0)\n",
    "\n",
    "  ep=theano.shared(either_prob)\n",
    "  ep_0=ep[lung,tub]\n",
    "  either=pm.Categorical('either',p=ep_0)\n",
    "\n",
    "  xp=theano.shared(xray_prob)\n",
    "  xp_0=xp[either]\n",
    "  xray=pm.Categorical('xray',p=xp_0)\n",
    "\n",
    "\n",
    "  dp=theano.shared(dysp_prob)\n",
    "  dp_0=dp[bronc,either]\n",
    "  dysp=pm.Categorical('dysp',p=dp_0)"
   ]
  },
  {
   "cell_type": "code",
   "execution_count": 6,
   "metadata": {},
   "outputs": [
    {
     "name": "stderr",
     "output_type": "stream",
     "text": [
      "Multiprocess sampling (2 chains in 2 jobs)\n",
      "BinaryGibbsMetropolis: [asia, smoke, tub, lung, bronc, either, xray, dysp]\n",
      "Sampling 2 chains, 0 divergences: 100%|██████████| 21000/21000 [00:15<00:00, 1319.08draws/s]\n"
     ]
    }
   ],
   "source": [
    "with model:\n",
    "    trace = pm.sample(10000)"
   ]
  },
  {
   "cell_type": "code",
   "execution_count": 7,
   "metadata": {},
   "outputs": [
    {
     "name": "stdout",
     "output_type": "stream",
     "text": [
      "<MultiTrace: 2 chains, 10000 iterations, 8 variables>\n"
     ]
    }
   ],
   "source": [
    "print(trace)"
   ]
  },
  {
   "cell_type": "code",
   "execution_count": 8,
   "metadata": {},
   "outputs": [
    {
     "data": {
      "text/plain": [
       "<MultiTrace: 2 chains, 9000 iterations, 8 variables>"
      ]
     },
     "execution_count": 8,
     "metadata": {},
     "output_type": "execute_result"
    }
   ],
   "source": [
    "sliced_trace = trace[1000:]\n",
    "sliced_trace"
   ]
  },
  {
   "cell_type": "code",
   "execution_count": 9,
   "metadata": {},
   "outputs": [],
   "source": [
    "a=sliced_trace['asia']\n",
    "s=sliced_trace['smoke']\n",
    "t=sliced_trace['tub']\n",
    "l=sliced_trace['lung']\n",
    "b=sliced_trace['bronc']\n",
    "e=sliced_trace['either']\n",
    "x=sliced_trace['xray']\n",
    "d=sliced_trace['dysp']"
   ]
  },
  {
   "cell_type": "code",
   "execution_count": 10,
   "metadata": {},
   "outputs": [],
   "source": [
    "list_of_tuples = list(zip(a,s,t,l,b,e,x,d)) \n",
    "\n",
    "\n",
    "df = pd.DataFrame(list_of_tuples, columns = ['Asia', 'Smoke','Tub','Lung','Bronc','Either','Xray','Dysp'])  "
   ]
  },
  {
   "cell_type": "code",
   "execution_count": 11,
   "metadata": {},
   "outputs": [
    {
     "data": {
      "text/html": [
       "<div>\n",
       "<style scoped>\n",
       "    .dataframe tbody tr th:only-of-type {\n",
       "        vertical-align: middle;\n",
       "    }\n",
       "\n",
       "    .dataframe tbody tr th {\n",
       "        vertical-align: top;\n",
       "    }\n",
       "\n",
       "    .dataframe thead th {\n",
       "        text-align: right;\n",
       "    }\n",
       "</style>\n",
       "<table border=\"1\" class=\"dataframe\">\n",
       "  <thead>\n",
       "    <tr style=\"text-align: right;\">\n",
       "      <th></th>\n",
       "      <th>Asia</th>\n",
       "      <th>Smoke</th>\n",
       "      <th>Tub</th>\n",
       "      <th>Lung</th>\n",
       "      <th>Bronc</th>\n",
       "      <th>Either</th>\n",
       "      <th>Xray</th>\n",
       "      <th>Dysp</th>\n",
       "    </tr>\n",
       "  </thead>\n",
       "  <tbody>\n",
       "    <tr>\n",
       "      <th>0</th>\n",
       "      <td>1</td>\n",
       "      <td>1</td>\n",
       "      <td>1</td>\n",
       "      <td>1</td>\n",
       "      <td>1</td>\n",
       "      <td>1</td>\n",
       "      <td>0</td>\n",
       "      <td>1</td>\n",
       "    </tr>\n",
       "    <tr>\n",
       "      <th>1</th>\n",
       "      <td>1</td>\n",
       "      <td>1</td>\n",
       "      <td>1</td>\n",
       "      <td>1</td>\n",
       "      <td>1</td>\n",
       "      <td>1</td>\n",
       "      <td>0</td>\n",
       "      <td>1</td>\n",
       "    </tr>\n",
       "    <tr>\n",
       "      <th>2</th>\n",
       "      <td>1</td>\n",
       "      <td>0</td>\n",
       "      <td>1</td>\n",
       "      <td>1</td>\n",
       "      <td>1</td>\n",
       "      <td>1</td>\n",
       "      <td>1</td>\n",
       "      <td>0</td>\n",
       "    </tr>\n",
       "    <tr>\n",
       "      <th>3</th>\n",
       "      <td>1</td>\n",
       "      <td>0</td>\n",
       "      <td>1</td>\n",
       "      <td>1</td>\n",
       "      <td>1</td>\n",
       "      <td>1</td>\n",
       "      <td>1</td>\n",
       "      <td>0</td>\n",
       "    </tr>\n",
       "    <tr>\n",
       "      <th>4</th>\n",
       "      <td>1</td>\n",
       "      <td>1</td>\n",
       "      <td>1</td>\n",
       "      <td>1</td>\n",
       "      <td>0</td>\n",
       "      <td>1</td>\n",
       "      <td>1</td>\n",
       "      <td>1</td>\n",
       "    </tr>\n",
       "  </tbody>\n",
       "</table>\n",
       "</div>"
      ],
      "text/plain": [
       "   Asia  Smoke  Tub  Lung  Bronc  Either  Xray  Dysp\n",
       "0     1      1    1     1      1       1     0     1\n",
       "1     1      1    1     1      1       1     0     1\n",
       "2     1      0    1     1      1       1     1     0\n",
       "3     1      0    1     1      1       1     1     0\n",
       "4     1      1    1     1      0       1     1     1"
      ]
     },
     "execution_count": 11,
     "metadata": {},
     "output_type": "execute_result"
    }
   ],
   "source": [
    "df.head(5)"
   ]
  },
  {
   "cell_type": "markdown",
   "metadata": {},
   "source": [
    "**Displaying the samples along with their frequencies**"
   ]
  },
  {
   "cell_type": "code",
   "execution_count": 12,
   "metadata": {},
   "outputs": [
    {
     "data": {
      "text/html": [
       "<div>\n",
       "<style scoped>\n",
       "    .dataframe tbody tr th:only-of-type {\n",
       "        vertical-align: middle;\n",
       "    }\n",
       "\n",
       "    .dataframe tbody tr th {\n",
       "        vertical-align: top;\n",
       "    }\n",
       "\n",
       "    .dataframe thead th {\n",
       "        text-align: right;\n",
       "    }\n",
       "</style>\n",
       "<table border=\"1\" class=\"dataframe\">\n",
       "  <thead>\n",
       "    <tr style=\"text-align: right;\">\n",
       "      <th></th>\n",
       "      <th>Asia</th>\n",
       "      <th>Smoke</th>\n",
       "      <th>Tub</th>\n",
       "      <th>Lung</th>\n",
       "      <th>Bronc</th>\n",
       "      <th>Either</th>\n",
       "      <th>Xray</th>\n",
       "      <th>Dysp</th>\n",
       "      <th>Count</th>\n",
       "    </tr>\n",
       "  </thead>\n",
       "  <tbody>\n",
       "    <tr>\n",
       "      <th>0</th>\n",
       "      <td>0</td>\n",
       "      <td>0</td>\n",
       "      <td>1</td>\n",
       "      <td>1</td>\n",
       "      <td>0</td>\n",
       "      <td>1</td>\n",
       "      <td>0</td>\n",
       "      <td>0</td>\n",
       "      <td>4</td>\n",
       "    </tr>\n",
       "    <tr>\n",
       "      <th>1</th>\n",
       "      <td>0</td>\n",
       "      <td>0</td>\n",
       "      <td>1</td>\n",
       "      <td>1</td>\n",
       "      <td>0</td>\n",
       "      <td>1</td>\n",
       "      <td>0</td>\n",
       "      <td>1</td>\n",
       "      <td>2</td>\n",
       "    </tr>\n",
       "    <tr>\n",
       "      <th>2</th>\n",
       "      <td>0</td>\n",
       "      <td>0</td>\n",
       "      <td>1</td>\n",
       "      <td>1</td>\n",
       "      <td>0</td>\n",
       "      <td>1</td>\n",
       "      <td>1</td>\n",
       "      <td>0</td>\n",
       "      <td>34</td>\n",
       "    </tr>\n",
       "    <tr>\n",
       "      <th>3</th>\n",
       "      <td>0</td>\n",
       "      <td>0</td>\n",
       "      <td>1</td>\n",
       "      <td>1</td>\n",
       "      <td>0</td>\n",
       "      <td>1</td>\n",
       "      <td>1</td>\n",
       "      <td>1</td>\n",
       "      <td>15</td>\n",
       "    </tr>\n",
       "    <tr>\n",
       "      <th>4</th>\n",
       "      <td>0</td>\n",
       "      <td>0</td>\n",
       "      <td>1</td>\n",
       "      <td>1</td>\n",
       "      <td>1</td>\n",
       "      <td>1</td>\n",
       "      <td>0</td>\n",
       "      <td>1</td>\n",
       "      <td>6</td>\n",
       "    </tr>\n",
       "    <tr>\n",
       "      <th>5</th>\n",
       "      <td>0</td>\n",
       "      <td>0</td>\n",
       "      <td>1</td>\n",
       "      <td>1</td>\n",
       "      <td>1</td>\n",
       "      <td>1</td>\n",
       "      <td>1</td>\n",
       "      <td>0</td>\n",
       "      <td>3</td>\n",
       "    </tr>\n",
       "    <tr>\n",
       "      <th>6</th>\n",
       "      <td>0</td>\n",
       "      <td>0</td>\n",
       "      <td>1</td>\n",
       "      <td>1</td>\n",
       "      <td>1</td>\n",
       "      <td>1</td>\n",
       "      <td>1</td>\n",
       "      <td>1</td>\n",
       "      <td>27</td>\n",
       "    </tr>\n",
       "    <tr>\n",
       "      <th>7</th>\n",
       "      <td>0</td>\n",
       "      <td>1</td>\n",
       "      <td>1</td>\n",
       "      <td>1</td>\n",
       "      <td>0</td>\n",
       "      <td>1</td>\n",
       "      <td>1</td>\n",
       "      <td>0</td>\n",
       "      <td>26</td>\n",
       "    </tr>\n",
       "    <tr>\n",
       "      <th>8</th>\n",
       "      <td>0</td>\n",
       "      <td>1</td>\n",
       "      <td>1</td>\n",
       "      <td>1</td>\n",
       "      <td>0</td>\n",
       "      <td>1</td>\n",
       "      <td>1</td>\n",
       "      <td>1</td>\n",
       "      <td>4</td>\n",
       "    </tr>\n",
       "    <tr>\n",
       "      <th>9</th>\n",
       "      <td>0</td>\n",
       "      <td>1</td>\n",
       "      <td>1</td>\n",
       "      <td>1</td>\n",
       "      <td>1</td>\n",
       "      <td>1</td>\n",
       "      <td>0</td>\n",
       "      <td>1</td>\n",
       "      <td>2</td>\n",
       "    </tr>\n",
       "    <tr>\n",
       "      <th>10</th>\n",
       "      <td>0</td>\n",
       "      <td>1</td>\n",
       "      <td>1</td>\n",
       "      <td>1</td>\n",
       "      <td>1</td>\n",
       "      <td>1</td>\n",
       "      <td>1</td>\n",
       "      <td>0</td>\n",
       "      <td>8</td>\n",
       "    </tr>\n",
       "    <tr>\n",
       "      <th>11</th>\n",
       "      <td>0</td>\n",
       "      <td>1</td>\n",
       "      <td>1</td>\n",
       "      <td>1</td>\n",
       "      <td>1</td>\n",
       "      <td>1</td>\n",
       "      <td>1</td>\n",
       "      <td>1</td>\n",
       "      <td>53</td>\n",
       "    </tr>\n",
       "    <tr>\n",
       "      <th>12</th>\n",
       "      <td>1</td>\n",
       "      <td>0</td>\n",
       "      <td>1</td>\n",
       "      <td>1</td>\n",
       "      <td>0</td>\n",
       "      <td>1</td>\n",
       "      <td>0</td>\n",
       "      <td>0</td>\n",
       "      <td>170</td>\n",
       "    </tr>\n",
       "    <tr>\n",
       "      <th>13</th>\n",
       "      <td>1</td>\n",
       "      <td>0</td>\n",
       "      <td>1</td>\n",
       "      <td>1</td>\n",
       "      <td>0</td>\n",
       "      <td>1</td>\n",
       "      <td>0</td>\n",
       "      <td>1</td>\n",
       "      <td>62</td>\n",
       "    </tr>\n",
       "    <tr>\n",
       "      <th>14</th>\n",
       "      <td>1</td>\n",
       "      <td>0</td>\n",
       "      <td>1</td>\n",
       "      <td>1</td>\n",
       "      <td>0</td>\n",
       "      <td>1</td>\n",
       "      <td>1</td>\n",
       "      <td>0</td>\n",
       "      <td>3378</td>\n",
       "    </tr>\n",
       "    <tr>\n",
       "      <th>15</th>\n",
       "      <td>1</td>\n",
       "      <td>0</td>\n",
       "      <td>1</td>\n",
       "      <td>1</td>\n",
       "      <td>0</td>\n",
       "      <td>1</td>\n",
       "      <td>1</td>\n",
       "      <td>1</td>\n",
       "      <td>1471</td>\n",
       "    </tr>\n",
       "    <tr>\n",
       "      <th>16</th>\n",
       "      <td>1</td>\n",
       "      <td>0</td>\n",
       "      <td>1</td>\n",
       "      <td>1</td>\n",
       "      <td>1</td>\n",
       "      <td>1</td>\n",
       "      <td>0</td>\n",
       "      <td>0</td>\n",
       "      <td>12</td>\n",
       "    </tr>\n",
       "    <tr>\n",
       "      <th>17</th>\n",
       "      <td>1</td>\n",
       "      <td>0</td>\n",
       "      <td>1</td>\n",
       "      <td>1</td>\n",
       "      <td>1</td>\n",
       "      <td>1</td>\n",
       "      <td>0</td>\n",
       "      <td>1</td>\n",
       "      <td>148</td>\n",
       "    </tr>\n",
       "    <tr>\n",
       "      <th>18</th>\n",
       "      <td>1</td>\n",
       "      <td>0</td>\n",
       "      <td>1</td>\n",
       "      <td>1</td>\n",
       "      <td>1</td>\n",
       "      <td>1</td>\n",
       "      <td>1</td>\n",
       "      <td>0</td>\n",
       "      <td>322</td>\n",
       "    </tr>\n",
       "    <tr>\n",
       "      <th>19</th>\n",
       "      <td>1</td>\n",
       "      <td>0</td>\n",
       "      <td>1</td>\n",
       "      <td>1</td>\n",
       "      <td>1</td>\n",
       "      <td>1</td>\n",
       "      <td>1</td>\n",
       "      <td>1</td>\n",
       "      <td>2940</td>\n",
       "    </tr>\n",
       "    <tr>\n",
       "      <th>20</th>\n",
       "      <td>1</td>\n",
       "      <td>1</td>\n",
       "      <td>1</td>\n",
       "      <td>1</td>\n",
       "      <td>0</td>\n",
       "      <td>1</td>\n",
       "      <td>0</td>\n",
       "      <td>0</td>\n",
       "      <td>109</td>\n",
       "    </tr>\n",
       "    <tr>\n",
       "      <th>21</th>\n",
       "      <td>1</td>\n",
       "      <td>1</td>\n",
       "      <td>1</td>\n",
       "      <td>1</td>\n",
       "      <td>0</td>\n",
       "      <td>1</td>\n",
       "      <td>0</td>\n",
       "      <td>1</td>\n",
       "      <td>38</td>\n",
       "    </tr>\n",
       "    <tr>\n",
       "      <th>22</th>\n",
       "      <td>1</td>\n",
       "      <td>1</td>\n",
       "      <td>1</td>\n",
       "      <td>1</td>\n",
       "      <td>0</td>\n",
       "      <td>1</td>\n",
       "      <td>1</td>\n",
       "      <td>0</td>\n",
       "      <td>1938</td>\n",
       "    </tr>\n",
       "    <tr>\n",
       "      <th>23</th>\n",
       "      <td>1</td>\n",
       "      <td>1</td>\n",
       "      <td>1</td>\n",
       "      <td>1</td>\n",
       "      <td>0</td>\n",
       "      <td>1</td>\n",
       "      <td>1</td>\n",
       "      <td>1</td>\n",
       "      <td>798</td>\n",
       "    </tr>\n",
       "    <tr>\n",
       "      <th>24</th>\n",
       "      <td>1</td>\n",
       "      <td>1</td>\n",
       "      <td>1</td>\n",
       "      <td>1</td>\n",
       "      <td>1</td>\n",
       "      <td>1</td>\n",
       "      <td>0</td>\n",
       "      <td>0</td>\n",
       "      <td>25</td>\n",
       "    </tr>\n",
       "    <tr>\n",
       "      <th>25</th>\n",
       "      <td>1</td>\n",
       "      <td>1</td>\n",
       "      <td>1</td>\n",
       "      <td>1</td>\n",
       "      <td>1</td>\n",
       "      <td>1</td>\n",
       "      <td>0</td>\n",
       "      <td>1</td>\n",
       "      <td>319</td>\n",
       "    </tr>\n",
       "    <tr>\n",
       "      <th>26</th>\n",
       "      <td>1</td>\n",
       "      <td>1</td>\n",
       "      <td>1</td>\n",
       "      <td>1</td>\n",
       "      <td>1</td>\n",
       "      <td>1</td>\n",
       "      <td>1</td>\n",
       "      <td>0</td>\n",
       "      <td>619</td>\n",
       "    </tr>\n",
       "    <tr>\n",
       "      <th>27</th>\n",
       "      <td>1</td>\n",
       "      <td>1</td>\n",
       "      <td>1</td>\n",
       "      <td>1</td>\n",
       "      <td>1</td>\n",
       "      <td>1</td>\n",
       "      <td>1</td>\n",
       "      <td>1</td>\n",
       "      <td>5467</td>\n",
       "    </tr>\n",
       "  </tbody>\n",
       "</table>\n",
       "</div>"
      ],
      "text/plain": [
       "    Asia  Smoke  Tub  Lung  Bronc  Either  Xray  Dysp  Count\n",
       "0      0      0    1     1      0       1     0     0      4\n",
       "1      0      0    1     1      0       1     0     1      2\n",
       "2      0      0    1     1      0       1     1     0     34\n",
       "3      0      0    1     1      0       1     1     1     15\n",
       "4      0      0    1     1      1       1     0     1      6\n",
       "5      0      0    1     1      1       1     1     0      3\n",
       "6      0      0    1     1      1       1     1     1     27\n",
       "7      0      1    1     1      0       1     1     0     26\n",
       "8      0      1    1     1      0       1     1     1      4\n",
       "9      0      1    1     1      1       1     0     1      2\n",
       "10     0      1    1     1      1       1     1     0      8\n",
       "11     0      1    1     1      1       1     1     1     53\n",
       "12     1      0    1     1      0       1     0     0    170\n",
       "13     1      0    1     1      0       1     0     1     62\n",
       "14     1      0    1     1      0       1     1     0   3378\n",
       "15     1      0    1     1      0       1     1     1   1471\n",
       "16     1      0    1     1      1       1     0     0     12\n",
       "17     1      0    1     1      1       1     0     1    148\n",
       "18     1      0    1     1      1       1     1     0    322\n",
       "19     1      0    1     1      1       1     1     1   2940\n",
       "20     1      1    1     1      0       1     0     0    109\n",
       "21     1      1    1     1      0       1     0     1     38\n",
       "22     1      1    1     1      0       1     1     0   1938\n",
       "23     1      1    1     1      0       1     1     1    798\n",
       "24     1      1    1     1      1       1     0     0     25\n",
       "25     1      1    1     1      1       1     0     1    319\n",
       "26     1      1    1     1      1       1     1     0    619\n",
       "27     1      1    1     1      1       1     1     1   5467"
      ]
     },
     "execution_count": 12,
     "metadata": {},
     "output_type": "execute_result"
    }
   ],
   "source": [
    "df.groupby(['Asia', 'Smoke','Tub','Lung','Bronc','Either','Xray','Dysp']).size().reset_index(name='Count')"
   ]
  },
  {
   "cell_type": "markdown",
   "metadata": {},
   "source": [
    "**Yes=0 and No=1**\n",
    "\n",
    "**Since all 'No' has the highest count we will calculate joint probability of P(A=No,S=No,T=No,L=No,B=No,X=No,D=No,E=No)= 0.2903**\n",
    "\n",
    "**Confirming that the sample with second highest frequency has lesser joint probability:**\n",
    "\n",
    "**P(A=No,S=yes,T=No,L=No,B=yes,X=No,D=yes,E=No)= 0.176**\n",
    "\n",
    "Reference:\n",
    "\n",
    "http://pgmpy.org/models.html#module-pgmpy.models.BayesianModel\n",
    "\n",
    "http://pgmpy.org/inference.html\n",
    "\n",
    "https://gist.github.com/tbsexton/1349864212b25cce91dbe5e336d794b4"
   ]
  }
 ],
 "metadata": {
  "colab": {
   "authorship_tag": "ABX9TyNnH++1iIfKLv78+U7mNUhR",
   "collapsed_sections": [],
   "name": "PR_GraphicalModels.ipynb",
   "provenance": []
  },
  "kernelspec": {
   "display_name": "Python 3",
   "language": "python",
   "name": "python3"
  },
  "language_info": {
   "codemirror_mode": {
    "name": "ipython",
    "version": 3
   },
   "file_extension": ".py",
   "mimetype": "text/x-python",
   "name": "python",
   "nbconvert_exporter": "python",
   "pygments_lexer": "ipython3",
   "version": "3.7.3"
  }
 },
 "nbformat": 4,
 "nbformat_minor": 1
}
